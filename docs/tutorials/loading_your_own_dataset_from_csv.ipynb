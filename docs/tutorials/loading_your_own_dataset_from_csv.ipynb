{
  "nbformat": 4,
  "nbformat_minor": 0,
  "metadata": {
    "colab": {
      "name": "loading_your_own_dataset_from_csv.ipynb",
      "provenance": [],
      "collapsed_sections": []
    },
    "kernelspec": {
      "name": "python3",
      "display_name": "Python 3"
    }
  },
  "cells": [
    {
      "cell_type": "markdown",
      "metadata": {
        "id": "Lf7huAiYp-An"
      },
      "source": [
        "##### Copyright 2020 The TensorFlow Authors."
      ]
    },
    {
      "cell_type": "code",
      "metadata": {
        "cellView": "form",
        "id": "YHz2D-oIqBWa"
      },
      "source": [
        "#@title Licensed under the Apache License, Version 2.0 (the \"License\");\n",
        "# you may not use this file except in compliance with the License.\n",
        "# You may obtain a copy of the License at\n",
        "#\n",
        "# https://www.apache.org/licenses/LICENSE-2.0\n",
        "#\n",
        "# Unless required by applicable law or agreed to in writing, software\n",
        "# distributed under the License is distributed on an \"AS IS\" BASIS,\n",
        "# WITHOUT WARRANTIES OR CONDITIONS OF ANY KIND, either express or implied.\n",
        "# See the License for the specific language governing permissions and\n",
        "# limitations under the License."
      ],
      "execution_count": null,
      "outputs": []
    },
    {
      "cell_type": "code",
      "metadata": {
        "id": "9LcC1AwjoqfR"
      },
      "source": [
        "#@test {\"skip\": true}\n",
        "!pip install --quiet --upgrade tensorflow_federated\n",
        "!pip install --quiet --upgrade nest_asyncio\n",
        "\n",
        "import nest_asyncio\n",
        "nest_asyncio.apply()"
      ],
      "execution_count": 113,
      "outputs": []
    },
    {
      "cell_type": "code",
      "metadata": {
        "id": "ZjDQysatrc2S",
        "colab": {
          "base_uri": "https://localhost:8080/"
        },
        "outputId": "eff51cd9-6ed4-47e4-e616-ab39f07e2415"
      },
      "source": [
        "import collections\n",
        "import io\n",
        "\n",
        "import pandas as pd\n",
        "import tensorflow as tf\n",
        "import tensorflow_federated as tff\n",
        "\n",
        "from google.colab import files\n",
        "\n",
        "# Test that TFF is working:\n",
        "tff.federated_computation(lambda: 'Hello, World!')()"
      ],
      "execution_count": 114,
      "outputs": [
        {
          "output_type": "execute_result",
          "data": {
            "text/plain": [
              "b'Hello, World!'"
            ]
          },
          "metadata": {
            "tags": []
          },
          "execution_count": 114
        }
      ]
    },
    {
      "cell_type": "markdown",
      "metadata": {
        "id": "hYscs62B11T0"
      },
      "source": [
        "**NOTE**: This colab has been verified to work with the [latest released version](https://github.com/tensorflow/federated#compatibility) of the `tensorflow_federated` pip package, but the Tensorflow Federated project is still in pre-release development and may not work on `main`.\n"
      ]
    },
    {
      "cell_type": "markdown",
      "metadata": {
        "id": "O0AwBLnk19UB"
      },
      "source": [
        "## Overview"
      ]
    },
    {
      "cell_type": "markdown",
      "metadata": {
        "id": "F-nW6M0c2CWa"
      },
      "source": [
        "In the [image classification](federated_learning_for_image_classification.ipynb) and\n",
        "[text generation](federated_learning_for_text_generation.ipynb) tutorials, we learned how to set up model and data pipelines for Federated Learning using datasets provided by TFF.\n",
        "\n",
        "In order to try Federated Learning for different applications, you may want to provide your own dataset. This tutorial shows you how to load a CSV file into a `tff.simulation.ClientData` for use in federated computations.\n"
      ]
    },
    {
      "cell_type": "markdown",
      "metadata": {
        "id": "kKMUn-TlgxuP"
      },
      "source": [
        "## Creating and Downloading a CSV File with Shakespeare Data"
      ]
    },
    {
      "cell_type": "markdown",
      "metadata": {
        "id": "xXUOpI4b66I6"
      },
      "source": [
        "Before we can demonstrate loading a CSV file for use in TFF, we need to create two CSV files: one with training data, and one with testing data. We will load a Shakespeare dataset from the `tff.simulation.datasets` package and convert the data into CSV format. This is the same dataset used in the [text generation](federated_learning_for_text_generation.ipynb) tutorial."
      ]
    },
    {
      "cell_type": "code",
      "metadata": {
        "id": "UGqm_EJp7DjN"
      },
      "source": [
        "train_data, test_data = tff.simulation.datasets.shakespeare.load_data()"
      ],
      "execution_count": 115,
      "outputs": []
    },
    {
      "cell_type": "markdown",
      "metadata": {
        "id": "No1Nymza7MD2"
      },
      "source": [
        "The TFF dataset is partitioned by client ID, where each client corresponds to a dataset on a particular device that might participate in federated learning. In the case of the Shakespeare dataset, each client is a character from Shakespeare, and the `client_id` is a character's name.\n",
        "\n",
        "To get a `tf.data.Dataset` for a particular client, we can use the `create_tf_dataset_for_client` function. In the case of this dataset, each `tf.data.Dataset` consists of multiple lines (`snippets`) spoken by that Shakespeare character. We create a column in the CSV file for each snippet, with the `client_id` in the `character` column. Thus, the same character's name can appear in many rows.\n"
      ]
    },
    {
      "cell_type": "code",
      "metadata": {
        "id": "ZFCX0fz68BbB"
      },
      "source": [
        "def write_data_to_csv_file(tff_dataset, f):\n",
        "  f.write('\"character\",\"snippets\"\\n')\n",
        "  # Use a subset of the clients to speed up execution.\n",
        "  for client_id in tff_dataset.client_ids[200:]:\n",
        "    tf_dataset = tff_dataset.create_tf_dataset_for_client(client_id)\n",
        "    for element in tf_dataset.as_numpy_iterator():\n",
        "      # The CSV standard specifies that double quotes in the data must be escaped by preceding them with another double quote.\n",
        "      f.write('\"' + client_id + '\",\"' + str(element['snippets'], 'ascii').replace('\"', '\"\"') + '\"\\n')"
      ],
      "execution_count": 116,
      "outputs": []
    },
    {
      "cell_type": "markdown",
      "metadata": {
        "id": "gR2DQTrc6JS1"
      },
      "source": [
        "We will create two separate files, one for training data and one for testing data."
      ]
    },
    {
      "cell_type": "code",
      "metadata": {
        "id": "TXwspNPnHwGl"
      },
      "source": [
        "filenames = ['shakespeare_train.csv', 'shakespeare_test.csv']\n",
        "for filename, data in zip(filenames, [train_data, test_data]):\n",
        "  with open(filename, 'w') as f:\n",
        "    write_data_to_csv_file(data, f)"
      ],
      "execution_count": 117,
      "outputs": []
    },
    {
      "cell_type": "markdown",
      "metadata": {
        "id": "DM4nDR1nMihz"
      },
      "source": [
        "Let's see what the first few lines of each file look like. The client keys consist of the name of the play joined with\n",
        "the name of the character, so for example `MUCH_ADO_ABOUT_NOTHING_OTHELLO` corresponds to the lines for the character Othello in the play *Much Ado About Nothing*."
      ]
    },
    {
      "cell_type": "code",
      "metadata": {
        "id": "3_ZuDrv9X1a6",
        "colab": {
          "base_uri": "https://localhost:8080/"
        },
        "outputId": "9271b54e-c970-4260-90ed-5dc90cb56a49"
      },
      "source": [
        "for filename in filenames:\n",
        "  with open(filename, 'r') as f:\n",
        "    print(\"Reading file \" + filename)\n",
        "    for i in range(10):\n",
        "      print(f.readline())"
      ],
      "execution_count": 118,
      "outputs": [
        {
          "output_type": "stream",
          "text": [
            "Reading file shakespeare_train.csv\n",
            "\"character\",\"snippets\"\n",
            "\n",
            "\"PERICLES__PRINCE_OF_TYRE_EXTON\",\"Both have I spill'd. O, would the deed were good!\n",
            "\n",
            "For now the devil, that told me I did well,\n",
            "\n",
            "Says that this deed is chronicled in hell.\n",
            "\n",
            "This dead King to the living King I'll bear.\n",
            "\n",
            "Take hence the rest, and give them burial here.       Exeunt\n",
            "\n",
            "Great King, within this coffin I present\"\n",
            "\n",
            "\"PERICLES__PRINCE_OF_TYRE_EXTON\",\"'Have I no friend will rid me of this living fear?'\n",
            "\n",
            "Was it not so?\n",
            "\n",
            "'Have I no friend?' quoth he. He spake it twice\"\n",
            "\n",
            "Reading file shakespeare_test.csv\n",
            "\"character\",\"snippets\"\n",
            "\n",
            "\"PERICLES__PRINCE_OF_TYRE_EXTON\",\"Didst thou not mark the King, what words he spake?\"\n",
            "\n",
            "\"PERICLES__PRINCE_OF_TYRE_FIRST_CITIZEN\",\"Give you good morrow, sir.\"\n",
            "\n",
            "\"PERICLES__PRINCE_OF_TYRE_FIRST_CITIZEN\",\"mother.\n",
            "\n",
            "Come, come, we fear the worst; all will be\"\n",
            "\n",
            "\"PERICLES__PRINCE_OF_TYRE_FIRST_HERALD\",\"Harry of Hereford, Lancaster, and Derby,\"\n",
            "\n",
            "\"PERICLES__PRINCE_OF_TYRE_FIRST_MURDERER\",\"done.\n",
            "\n",
            "Where's thy conscience now?\"\n",
            "\n",
            "\"PERICLES__PRINCE_OF_TYRE_FIRST_MURDERER\",\"We are, my lord, and come to have the\"\n",
            "\n",
            "\"PERICLES__PRINCE_OF_TYRE_FIRST_MURDERER\",\"persuading me not to kill the Duke.\n",
            "\n"
          ],
          "name": "stdout"
        }
      ]
    },
    {
      "cell_type": "markdown",
      "metadata": {
        "id": "z8JbRYaO6jQY"
      },
      "source": [
        "Now we can download the files we just created. You may need to click \"Allow\" on a a popup in your browser asking for permission to download the files from Colab."
      ]
    },
    {
      "cell_type": "code",
      "metadata": {
        "id": "uCp8rMSOX54K"
      },
      "source": [
        "#@test {\"skip\": true}\n",
        "for filename in filenames:\n",
        "  files.download(filename)"
      ],
      "execution_count": null,
      "outputs": []
    },
    {
      "cell_type": "markdown",
      "metadata": {
        "id": "u9P8VR5O606x"
      },
      "source": [
        "Take a look in your downloads folder to ensure that the files `shakespeare_train.csv` and `shakespeare_test.csv` were downloaded. Now we can delete the files from colab, since we will be uploading them from our local filesystem."
      ]
    },
    {
      "cell_type": "code",
      "metadata": {
        "id": "rhonzrXY7nFG"
      },
      "source": [
        "#@test {\"skip\": true}\n",
        "!rm \"shakespeare_train.csv\"\n",
        "!rm \"shakespeare_test.csv\""
      ],
      "execution_count": 120,
      "outputs": []
    },
    {
      "cell_type": "markdown",
      "metadata": {
        "id": "BeGid47H651j"
      },
      "source": [
        "## Uploading files into Colab"
      ]
    },
    {
      "cell_type": "markdown",
      "metadata": {
        "id": "z6dBxARy78P2"
      },
      "source": [
        "Now we can upload the CSV files, as if we had the data in CSV format locally in the first place. The `files.upload()` function should bring up a \"Choose Files\" button. When you click this button, you should be able to choose files from your filesystem to upload. Choose the `shakespeare_train.csv` and `shakespeare_test.csv` files that you downloaded in the previous step."
      ]
    },
    {
      "cell_type": "code",
      "metadata": {
        "id": "vqHSXIFBLDc1"
      },
      "source": [
        "#@test {\"skip\": true}\n",
        "uploaded = files.upload()\n",
        "\n",
        "for fn in uploaded.keys():\n",
        "  print('User uploaded file \"{name}\" with length {length} bytes'.format(\n",
        "      name=fn, length=len(uploaded[fn])))"
      ],
      "execution_count": null,
      "outputs": []
    },
    {
      "cell_type": "markdown",
      "metadata": {
        "id": "eny3lDdM8oja"
      },
      "source": [
        "## Converting CSV Data to a TFF Dataset"
      ]
    },
    {
      "cell_type": "markdown",
      "metadata": {
        "id": "_iiY65Vv4QNK"
      },
      "source": [
        "We will now write a function that returns a federated dataset (`tff.simulation.ClientData`) given the CSV file contents. \n",
        "\n",
        "We will use Pandas to read in the CSV data. Then we implement `create_tf_dataset_for_client_fn`, which takes a client ID and returns a TensorFlow dataset for that client."
      ]
    },
    {
      "cell_type": "code",
      "metadata": {
        "id": "oadEzMrp-R6O"
      },
      "source": [
        "client_id_colname = 'character' # the column that represents client ID\n",
        "# The signature of the `tf.data.Dataset` that will be output for each client.\n",
        "output_signature = {'snippets': tf.TensorSpec(shape=(), dtype=tf.string)}\n",
        "# Rows for which any of the columns in this list are null will be discarded.\n",
        "notnull_cols = output_signature.keys()\n",
        "\n",
        "def create_tff_dataset_for_csv_file(filename):\n",
        "  # Create a Pandas dataframe from the CSV file.\n",
        "  df = pd.read_csv(io.StringIO(uploaded[filename].decode(\"ascii\")))\n",
        "  # Collect unique character names.\n",
        "  client_ids = df[client_id_colname].unique().tolist()\n",
        "\n",
        "  # Define a function that takes client ID and returns a tf.data.Dataset for\n",
        "  # that client. The tf.data.Dataset should contain a dictionary for each\n",
        "  # line spoken by the character, where the single key in each dictionary is\n",
        "  # \"snippets\" and the value is a string tensor containing the text of the line.\n",
        "  def create_tf_dataset_for_client_fn(client_id):\n",
        "    # Retrieve only the rows corresponding to this client.\n",
        "    client_data = df[df[client_id_colname] == client_id]\n",
        "    # Filter out any rows without a snippet of text spoken by the character.\n",
        "    client_data = client_data[client_data[notnull_cols].notnull().all(axis=1)]\n",
        "    # Select the data columns, discarding the client id column.\n",
        "    client_data = client_data[output_signature.keys()]\n",
        "    # Convert to a dictionary in the format\n",
        "    # [{column1 : value1, column2 : value2}]\n",
        "    records = client_data.to_dict('records')\n",
        "\n",
        "    # Define a generator that outputs a map for each row with column names as\n",
        "    # keys and row contents as values. In this example there is only one column,\n",
        "    # 'snippets', but this approach is shown to demonstrate how one might\n",
        "    # load a CSV file with more columns.\n",
        "    def dataset_gen():\n",
        "      for row in records:\n",
        "        yield row\n",
        "    # Generate a dataset for the client, specifying the output type explicitly\n",
        "    # as otherwise Tensorflow expects a tensor as the toplevel type.\n",
        "    return tf.data.Dataset.from_generator(\n",
        "        dataset_gen,\n",
        "        output_types={k:v.dtype for k,v in output_signature.items()},\n",
        "        output_shapes={k:v.shape for k,v in output_signature.items()}\n",
        "    )\n",
        "\n",
        "  # Now that we have a list of client IDs and a function to generate a dataset\n",
        "  # for each client, we can use from_clients_and_fn to create the federated\n",
        "  # dataset.\n",
        "  return tff.simulation.ClientData.from_clients_and_fn(\n",
        "      client_ids=client_ids,\n",
        "      create_tf_dataset_for_client_fn=create_tf_dataset_for_client_fn\n",
        "  )"
      ],
      "execution_count": 122,
      "outputs": []
    },
    {
      "cell_type": "code",
      "metadata": {
        "id": "FZfXT1yIPmMn"
      },
      "source": [
        "test_filename = 'shakespeare_test.csv'\n",
        "test_data = create_tff_dataset_for_csv_file(test_filename)\n",
        "train_filename = 'shakespeare_train.csv'\n",
        "train_data = create_tff_dataset_for_csv_file(train_filename)"
      ],
      "execution_count": 123,
      "outputs": []
    },
    {
      "cell_type": "markdown",
      "metadata": {
        "id": "pQeHlqtozxOS"
      },
      "source": [
        "The datasets we just created consist of a sequence of maps from the key 'snippet' to \n",
        "string `Tensors`, one for each line spoken by a particular character in a\n",
        "Shakespeare play.\n",
        "\n",
        "We can get the data for a particular client by calling `create_tf_dataset_for_client` with that client_id. Note that in a real federated learning scenario\n",
        "clients are never identified or tracked by ids, but for simulation it is useful\n",
        "to work with keyed datasets."
      ]
    },
    {
      "cell_type": "markdown",
      "metadata": {
        "id": "o2wV12H9-n6Q"
      },
      "source": [
        "Let's take a look at lines spoken by Exton from *Pericles, Prince of Tyre*. We saw these lines printed above in the CSV file, so we can make sure they were loaded faithfully into the dataset."
      ]
    },
    {
      "cell_type": "code",
      "metadata": {
        "colab": {
          "base_uri": "https://localhost:8080/"
        },
        "id": "2a2oucKB-mm2",
        "outputId": "9cfd3a53-6153-49c2-cea0-2c1ad41c710b"
      },
      "source": [
        "# Here the play is \"Pericles, Prince of Tyre\" and the character is \"Exton\".\n",
        "raw_example_train_dataset = train_data.create_tf_dataset_for_client(\n",
        "    'PERICLES__PRINCE_OF_TYRE_EXTON')\n",
        "# Each entry x is a dictionary with a single key 'snippets' which contains the\n",
        "# text. If you import your own dataset, you may have more keys in each\n",
        "# dictionary corresponding to different features.\n",
        "for x in raw_example_train_dataset.take(2):\n",
        "  print(x)"
      ],
      "execution_count": 124,
      "outputs": [
        {
          "output_type": "stream",
          "text": [
            "{'snippets': <tf.Tensor: shape=(), dtype=string, numpy=b\"Both have I spill'd. O, would the deed were good!\\nFor now the devil, that told me I did well,\\nSays that this deed is chronicled in hell.\\nThis dead King to the living King I'll bear.\\nTake hence the rest, and give them burial here.       Exeunt\\nGreat King, within this coffin I present\">}\n",
            "{'snippets': <tf.Tensor: shape=(), dtype=string, numpy=b\"'Have I no friend will rid me of this living fear?'\\nWas it not so?\\n'Have I no friend?' quoth he. He spake it twice\">}\n"
          ],
          "name": "stdout"
        }
      ]
    },
    {
      "cell_type": "markdown",
      "metadata": {
        "id": "mRrXTF1I_DT_"
      },
      "source": [
        "To make sure the test data loaded correctly, we can look at some data from King Lear:"
      ]
    },
    {
      "cell_type": "code",
      "metadata": {
        "id": "FEKiy1ntmmnk",
        "colab": {
          "base_uri": "https://localhost:8080/"
        },
        "outputId": "d1942bb2-b698-43dc-c8d5-f77174464bf0"
      },
      "source": [
        "# Here the play is \"The Tragedy of King Lear\" and the character is \"King\".\n",
        "raw_example_test_dataset = test_data.create_tf_dataset_for_client(\n",
        "    'THE_TRAGEDY_OF_KING_LEAR_KING')\n",
        "# Each entry x is a dictionary with a single key 'snippets' which contains the\n",
        "# text. If you import your own dataset, you may have more keys in each\n",
        "# dictionary corresponding to different features.\n",
        "for x in raw_example_test_dataset.take(2):\n",
        "  print(x)"
      ],
      "execution_count": 125,
      "outputs": [
        {
          "output_type": "stream",
          "text": [
            "{'snippets': <tf.Tensor: shape=(), dtype=string, numpy=b'Sir, I will pronounce your sentence: you shall fast a week'>}\n",
            "{'snippets': <tf.Tensor: shape=(), dtype=string, numpy=b'Teach us, sweet madam, for our rude transgression'>}\n"
          ],
          "name": "stdout"
        }
      ]
    },
    {
      "cell_type": "markdown",
      "metadata": {
        "id": "D-mqwhReCcBi"
      },
      "source": [
        "Now that the data from the CSV file has been loaded into a `tff.simulation.ClientData`, we can use `tf.data.Dataset` transformations to prepare the data for training. Refer to the [text generation](federated_learning_for_text_generation.ipynb) tutorial for instructions on how to transform the data and train a model using Federated Learning.\n"
      ]
    },
    {
      "cell_type": "markdown",
      "metadata": {
        "id": "k8BxCwTKCw_B"
      },
      "source": [
        "## Modifying the Code to Work With Your Dataset"
      ]
    },
    {
      "cell_type": "markdown",
      "metadata": {
        "id": "93rniObdC-BY"
      },
      "source": [
        "If you have a CSV file you would like to use for Federated Learning, you can try modifying the code above to load your file into a `tff.simulation.ClientData`. The code was written to be easily modifiable to work with different datasets, but there are a few things you will need to consider:\n",
        "\n",
        "* `client_id_colname`: What column from your CSV file will be used as the `client_id`? This is a fundamental question about how you want to partition your data into client datasets. For realistic simulation of the challenges of Federated Learning, you may *not* want your data to be independent and identically distributed (IID) across clients.\n",
        "\n",
        "* `output_signature`: What is the type of the elements of the `tf.data.Dataset` that will be generated for each client_id? In this example, we had only one data column, `snippets`, but your dataset may have multiple data columns corresponding to different features and labels, possibly with different types.\n",
        "\n",
        "* `notnull_cols`: The current implementation will filter out rows in which any of the data columns is null. However, you might want to change this if null values are tolerable for some of the columns. Are there other conditions you want to filter on, such as filtering out rows with NaN values? \n"
      ]
    }
  ]
}
