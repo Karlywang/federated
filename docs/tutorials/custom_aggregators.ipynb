{
  "cells": [
    {
      "cell_type": "markdown",
      "metadata": {
        "id": "j-y8GPCrZ--r"
      },
      "source": [
        "# Implementing custom aggregators\n"
      ]
    },
    {
      "cell_type": "markdown",
      "metadata": {
        "id": "xcrxeoeXaWJC"
      },
      "source": [
        "In this tutorial, we explain design principles behind the `tff.aggregators` module and best practices for implementing custom aggregations.\n",
        "\n",
        "**Prerequisites.** This tutorial assumes you are already familiar with basic concepts of [Federated Core](https://www.tensorflow.org/federated/federated_core) such as placements (`tff.SERVER`, `tff.CLIENTS`), how TFF represents computations (`tff.tf_computation`, `tff.federated_computation`) and their type signatures."
      ]
    },
    {
      "cell_type": "markdown",
      "metadata": {
        "id": "_WbNgHj7aRzm"
      },
      "source": [
        "## Design Summary\n",
        "\n"
      ]
    },
    {
      "cell_type": "markdown",
      "metadata": {
        "id": "essB1Vu0aXp1"
      },
      "source": [
        "Aggregation in TFF refers to the movement of values from `tff.CLIENTS` to `tff.SERVER` while making available only an aggregate value, instead of every single client value individually.\n",
        "\n",
        "In addition to intrinsic operators accomplishing this goal such as `tff.federated_sum`, TFF provides `tff.templates.AggregationProcess` which formalizes the type signature for aggregation computation encapsulating additional logic before and after the aggregation itself using the intrinsic operators.\n",
        "\n",
        "The main components of the `tff.aggregators` module are designed to be generally useful and replacable building blocks of TFF in two aspects:\n",
        "\n",
        "1. *Parameterized computations.* Aggregation is an independent building block that can be plugged into other TFF modules designed to work with `tff.aggregators` to parameterize their necessary aggregation, such as `tff.learning.build_federated_averaging_process`.\n",
        "1. *Aggregation composition.* An aggregation building block can be composed with other aggregation building blocks to create more complex composite aggregations.\n",
        "\n",
        "The rest of this tutorial explains how these two goals are achieved.\n"
      ]
    },
    {
      "cell_type": "markdown",
      "metadata": {
        "id": "zUu7slQMfUX1"
      },
      "source": [
        "### Aggregation Process"
      ]
    },
    {
      "cell_type": "markdown",
      "metadata": {
        "id": "wLn76zvHaYUh"
      },
      "source": [
        "The `tff.templates.AggregationProcess` is an `tff.templates.MeasuredProcess` with type signatures specified for aggregation. In particular, the `initialize` and `next` functions have the following type signatures:\n",
        "\n",
        "* `( -\u003e state_type@SERVER)`\n",
        "* `(\u003cstate_type@SERVER, {value_type}@CLIENTS, *\u003e -\u003e \u003cstate_type@SERVER, value_type@SERVER, measurements_type@SERVER\u003e)`\n",
        "\n",
        "The state (of type `state_type`) must be placed at server. The `next` function takes as input argument the state, a value to be aggregatred (of type `value_type`) placed at clients, and optionally other input arguments. It returns the aggregated value of the same type, but placed at server. It also returns a new state object and some measurements.\n",
        "\n",
        "Note that both the state to be passed between executions of the `next` function, and the reported measurements intended to report any information depending on a specific execution of the `next` function, may be empty. Nevertheless, they have to be explicitly specified for other parts of TFF to have a clear contract to follow.\n",
        "\n",
        "Other TFF modules, are expected to use the `tff.templates.AggregationProcess` to parameterize how values are aggregated. For instance, the model updates in `tff.learning`. However, what exactly are the values aggregated and what their type signatures are, depends on other details of the model being trained and the learning algorithm used to do it. Hence, directly writing the `tff.templates.AggregationProcess` would result in code that specifies the aggregation being dependent on other configuration, sometimes in a hard to understand manner.\n",
        "\n",
        "To make aggreagtion independent of the other aspects of computations, we use teh factory pattern. Methods in `tff.learning` accept an aggregation factory and then create the appropriate `tff.templates.AggregationProcess` later, when the relevant type signatures of objects to be aggregated are available, by invoking the `create` method of the factory."
      ]
    },
    {
      "cell_type": "markdown",
      "metadata": {
        "id": "dWoZQqpOgTv4"
      },
      "source": [
        "#### Aggregation Process Factories"
      ]
    },
    {
      "cell_type": "markdown",
      "metadata": {
        "id": "x6fh5D7jgXuX"
      },
      "source": [
        "There are two abstract base factory classes for unweighted and weighted aggregation. Their `create` method takes type signatures of value to be aggregated and returns a `tff.templates.AggregationProcess` for aggregation of such values.\n",
        "\n",
        "The process created by `tff.aggregators.UnweightedAggregationFactory` takes two input arguments: (1) state at server and (2) value of specified type `value_type`.\n",
        "\n",
        "An example implementation is `tff.aggregators.SumFactory`.\n",
        "\n",
        "The process created by `tff.aggregators.WeightedAggregationFactory` takes three input arguments: (1) state at server, (2) value of specified type `value_type` and (3) weight of type `weight_type`, as specified by the factory's user when invoking its `create` method.\n",
        "\n",
        "An example implementation is `tff.aggregators.MeanFactory` which computes a weighted mean.\n",
        "\n",
        "The factory pattern is how we achieve the first goal stated above; that aggregation is an independent building block. For example, when changing which model varaibles are trainable, a complex aggregation does not necessarily need to change; the factory representing it will be invoked with a different type signature when used by a method such as `tff.learning.build_federated_averaging_process`."
      ]
    },
    {
      "cell_type": "markdown",
      "metadata": {
        "id": "I8k46_iLgfSu"
      },
      "source": [
        "### Compositions\n",
        "\n"
      ]
    },
    {
      "cell_type": "markdown",
      "metadata": {
        "id": "ZZPXuhSkgonh"
      },
      "source": [
        "The second goal stated above, aggregation composition, is realized inside the `tff.aggregators` module by structuring the implementation of the aggregation factories such that their \"actual\" aggregation can be delegated to another aggregation factory. \n",
        "\n",
        "Rather than implementing all necessary logic within a single factory class, the implementations are by default focused on a single aspect relevant for aggregation. When needed, the pattern of delegation of \"actual\" aggregations then enables us to replace the building blocks one at a time.\n",
        "\n",
        "An example is the weighted `tff.aggregators.MeanFactory`. Its implementation multiplies provided values and weights at clients, then sums both weighted values and weights independently, and then divides the sum of weighted values by the sum of weights at the server. Instead of implementing the summations by directly using the `tff.federated_sum` operator, the summation is delegated to two instances of `tff.aggregators.SumFactory`.\n",
        "\n",
        "Such structure makes it possible for the two default summations to be replaced by different factories, which realize the sum differently. For example, a `tff.aggregators.SecureSumFactory`, or a custom implementation of the `tff.aggregators.UnweightedAggregationFactory`. At the same time, `tff.aggregators.MeanFactory` can itself be an inner aggregation of another factory such as `tff.aggregators.clipping_factory`, if the values are to be clipped before weighting.\n",
        "\n",
        "See the previous [Tuning recommended aggregations for learning](tuning_recommended_aggregators.ipynb) tutorial for receommended uses of the composition mechanism using existing factories in the `tff.aggregators` module."
      ]
    },
    {
      "cell_type": "markdown",
      "metadata": {
        "id": "jPk4ZRQuiq0W"
      },
      "source": [
        "## Best practices by example\n",
        "\n"
      ]
    },
    {
      "cell_type": "markdown",
      "metadata": {
        "id": "1G8Q-SLXQKIv"
      },
      "source": [
        "We are going to illustrate the `tff.aggregators` concepts in detail by implementing a simple example task, and make it progressively more general."
      ]
    },
    {
      "cell_type": "code",
      "execution_count": 3,
      "metadata": {
        "executionInfo": {
          "elapsed": 595,
          "status": "ok",
          "timestamp": 1611221422947,
          "user": {
            "displayName": "",
            "photoUrl": "",
            "userId": ""
          },
          "user_tz": -480
        },
        "id": "sJukNEVporAx"
      },
      "outputs": [],
      "source": [
        "import collections\n",
        "import tensorflow as tf\n",
        "import tensorflow_federated as tff"
      ]
    },
    {
      "cell_type": "markdown",
      "metadata": {
        "id": "kuWnjpo9k_yG"
      },
      "source": [
        "Instead of summing `value`, the example task is to sum `value * 2.0` and then divide the sum by `2.0`. The aggregation result is thus mathematically equivalent to directly summing the `value`, and could be thought of as consisting of three parts: (1) scaling at clients (2) summing across clients (3) unscaling at server."
      ]
    },
    {
      "cell_type": "markdown",
      "metadata": {
        "id": "qpDHHDYMlC1D"
      },
      "source": [
        "NOTE: This task is not necessarily useful in practice. Nevertheless, it is helpful in explaining the underlying concepts."
      ]
    },
    {
      "cell_type": "markdown",
      "metadata": {
        "id": "CJnGAYmVlE-I"
      },
      "source": [
        "Following the design explained above, the logic will be implemented as a subclass of `tff.aggregators.UnweightedAggregationFactory`, which creates appropriate `tff.templates.AggregationProcess` when given a `value_type` to aggregate:"
      ]
    },
    {
      "cell_type": "markdown",
      "metadata": {
        "id": "N-3YKg8klWP0"
      },
      "source": [
        "### Minimal answer"
      ]
    },
    {
      "cell_type": "markdown",
      "metadata": {
        "id": "kIDclJTBlYDM"
      },
      "source": [
        "For the example task, the computations necessary are always the same, so there is no need for using state. It is thus empty, and represented as `tff.federated_value((), tff.SERVER)`. The same holds for measurements, for now.\n",
        "\n",
        "The minimal implementation of the task is thus as follows:\n",
        "\n"
      ]
    },
    {
      "cell_type": "code",
      "execution_count": 12,
      "metadata": {
        "executionInfo": {
          "elapsed": 585,
          "status": "ok",
          "timestamp": 1611222165616,
          "user": {
            "displayName": "",
            "photoUrl": "",
            "userId": ""
          },
          "user_tz": -480
        },
        "id": "ShzVITY4Bv8X"
      },
      "outputs": [],
      "source": [
        "class ExampleTaskFactory(tff.aggregators.UnweightedAggregationFactory):\n",
        "\n",
        "  def create(self, value_type):\n",
        "    @tff.federated_computation()\n",
        "    def initialize_fn():\n",
        "      return tff.federated_value((), tff.SERVER)\n",
        "\n",
        "    @tff.federated_computation(initialize_fn.type_signature.result,\n",
        "                               tff.type_at_clients(value_type))\n",
        "    def next_fn(state, value):\n",
        "      scaled_value = tff.federated_map(\n",
        "          tff.tf_computation(lambda x: x * 2.0), value)\n",
        "      summed_value = tff.federated_sum(scaled_value)\n",
        "      unscaled_value = tff.federated_map(\n",
        "          tff.tf_computation(lambda x: x / 2.0), summed_value)\n",
        "      measurements = tff.federated_value((), tff.SERVER)\n",
        "      return tff.templates.MeasuredProcessOutput(\n",
        "          state=state, result=unscaled_value, measurements=measurements)\n",
        "\n",
        "    return tff.templates.AggregationProcess(initialize_fn, next_fn)"
      ]
    },
    {
      "cell_type": "markdown",
      "metadata": {
        "id": "XivHiQ38Y2Ph"
      },
      "source": [
        "Whether everything works as expected can be verified with the following code:"
      ]
    },
    {
      "cell_type": "code",
      "execution_count": 13,
      "metadata": {
        "executionInfo": {
          "elapsed": 752,
          "status": "ok",
          "timestamp": 1611222166373,
          "user": {
            "displayName": "",
            "photoUrl": "",
            "userId": ""
          },
          "user_tz": -480
        },
        "id": "Nd6qJL15oz1W",
        "outputId": "5bde6ef3-9939-47f3-8ea4-9845657c37c3"
      },
      "outputs": [
        {
          "name": "stdout",
          "output_type": "stream",
          "text": [
            "Type signatures of the created aggregation process:\n",
            "  - initialize: ( -\u003e \u003c\u003e@SERVER)\n",
            "  - next: (\u003cstate=\u003c\u003e@SERVER,value={float32}@CLIENTS\u003e -\u003e \u003cstate=\u003c\u003e@SERVER,result=float32@SERVER,measurements=\u003c\u003e@SERVER\u003e)\n",
            "\n",
            "Aggregation result: 8.0  (expected 8.0)\n"
          ]
        }
      ],
      "source": [
        "client_data = (1.0, 2.0, 5.0)\n",
        "factory = ExampleTaskFactory()\n",
        "aggregation_process = factory.create(tff.TensorType(tf.float32))\n",
        "print(f'Type signatures of the created aggregation process:\\n'\n",
        "      f'  - initialize: {aggregation_process.initialize.type_signature}\\n'\n",
        "      f'  - next: {aggregation_process.next.type_signature}\\n')\n",
        "\n",
        "state = aggregation_process.initialize()\n",
        "output = aggregation_process.next(state, client_data)\n",
        "print(f'Aggregation result: {output.result}  (expected 8.0)')"
      ]
    },
    {
      "cell_type": "markdown",
      "metadata": {
        "id": "WAdrM-JEpZjE"
      },
      "source": [
        "### Statefulness"
      ]
    },
    {
      "cell_type": "markdown",
      "metadata": {
        "id": "DLIu-aRQpo3k"
      },
      "source": [
        "Statefulness is broadly used in TFF to represent computations that are expected to be executed iteratively and change with each iteration. For example, the state of a learning computation contains the weights of the model being learned.\n",
        "\n",
        "To illustrate how to use state in an aggregation computation, we modify the example task. Instead of multiplying `value` by `2.0`, we multiply it by the iteration index - the number of times the aggregation has been executed.\n",
        "\n",
        "To do so, we need a way to keep track of the iteration index, which is achieved through the concept of state. In the `initialize_fn`, instead of creating an empty state, we initialize the state to be a scalar zero. Then, state can be used in the `next_fn` in three steps: (1) increment by `1.0`, (2) use to multiply `value`, and (3) return as the new updated state."
      ]
    },
    {
      "cell_type": "markdown",
      "metadata": {
        "id": "efVS0FhEqELN"
      },
      "source": [
        "Once this is done, you may note: *But exactly the same code as above can be used to verify all works as expected. How do I know something has actually changed?*\n",
        "\n",
        "Good question! This is where the concept of measurements becomes useful. In general, measurements can report any value relevant to a single execution of the `next` function, which could be used for monitoring. In this case, it can be the `summed_value` from the previous example. That is, the value before the \"unscaling\" step, which should depend on the iteration index. *Again, this is not necessarily useful in practice, but illustrates the relevant mechanism.*\n",
        "\n",
        "The stateful answer to the task thus looks as follows:"
      ]
    },
    {
      "cell_type": "code",
      "execution_count": 14,
      "metadata": {
        "executionInfo": {
          "elapsed": 818,
          "status": "ok",
          "timestamp": 1611222607301,
          "user": {
            "displayName": "",
            "photoUrl": "",
            "userId": ""
          },
          "user_tz": -480
        },
        "id": "rADHGC0gqZhs"
      },
      "outputs": [],
      "source": [
        "class ExampleTaskFactory(tff.aggregators.UnweightedAggregationFactory):\n",
        "\n",
        "  def create(self, value_type):\n",
        "    @tff.federated_computation()\n",
        "    def initialize_fn():\n",
        "      return tff.federated_value(0.0, tff.SERVER)\n",
        "\n",
        "    @tff.federated_computation(initialize_fn.type_signature.result,\n",
        "                               tff.type_at_clients(value_type))\n",
        "    def next_fn(state, value):\n",
        "      new_state = tff.federated_map(\n",
        "          tff.tf_computation(lambda x: x + 1.0), state)\n",
        "      state_at_clients = tff.federated_broadcast(new_state)\n",
        "      scaled_value = tff.federated_map(\n",
        "          tff.tf_computation(lambda x, y: x * y), (value, state_at_clients))\n",
        "      summed_value = tff.federated_sum(scaled_value)\n",
        "      unscaled_value = tff.federated_map(\n",
        "          tff.tf_computation(lambda x, y: x / y), (summed_value, new_state))\n",
        "      return tff.templates.MeasuredProcessOutput(\n",
        "          state=new_state, result=unscaled_value, measurements=summed_value)\n",
        "\n",
        "    return tff.templates.AggregationProcess(initialize_fn, next_fn)"
      ]
    },
    {
      "cell_type": "markdown",
      "metadata": {
        "id": "SIdlsupeqyTu"
      },
      "source": [
        "Note that the `state` that comes into `next_fn` as input is placed at server. In order to use it at clients, it first needs to be communicated, which is achieved using the `tff.federated_broadcast` operator.\n",
        "\n",
        "To verify all works as expected, we can now look at the reported `measurements`, which should be different with each round of execution, even if run with the same `client_data`."
      ]
    },
    {
      "cell_type": "code",
      "execution_count": 15,
      "metadata": {
        "executionInfo": {
          "elapsed": 1173,
          "status": "ok",
          "timestamp": 1611222628406,
          "user": {
            "displayName": "",
            "photoUrl": "",
            "userId": ""
          },
          "user_tz": -480
        },
        "id": "W0E2jwodrO4R",
        "outputId": "97a63181-e313-46bb-99ae-abb055021a00"
      },
      "outputs": [
        {
          "name": "stdout",
          "output_type": "stream",
          "text": [
            "Type signatures of the created aggregation process:\n",
            "  - initialize: ( -\u003e float32@SERVER)\n",
            "  - next: (\u003cstate=float32@SERVER,value={float32}@CLIENTS\u003e -\u003e \u003cstate=float32@SERVER,result=float32@SERVER,measurements=float32@SERVER\u003e)\n",
            "\n",
            "| Round #1\n",
            "|       Aggregation result: 8.0   (expected 8.0)\n",
            "| Aggregation measurements: 8.0   (expected 8.0 * 1)\n",
            "\n",
            "| Round #2\n",
            "|       Aggregation result: 8.0   (expected 8.0)\n",
            "| Aggregation measurements: 16.0  (expected 8.0 * 2)\n",
            "\n",
            "| Round #3\n",
            "|       Aggregation result: 8.0   (expected 8.0)\n",
            "| Aggregation measurements: 24.0  (expected 8.0 * 3)\n"
          ]
        }
      ],
      "source": [
        "client_data = (1.0, 2.0, 5.0)\n",
        "factory = ExampleTaskFactory()\n",
        "aggregation_process = factory.create(tff.TensorType(tf.float32))\n",
        "print(f'Type signatures of the created aggregation process:\\n'\n",
        "      f'  - initialize: {aggregation_process.initialize.type_signature}\\n'\n",
        "      f'  - next: {aggregation_process.next.type_signature}\\n')\n",
        "\n",
        "state = aggregation_process.initialize()\n",
        "\n",
        "output = aggregation_process.next(state, client_data)\n",
        "print('| Round #1')\n",
        "print(f'|       Aggregation result: {output.result}   (expected 8.0)')\n",
        "print(f'| Aggregation measurements: {output.measurements}   (expected 8.0 * 1)')\n",
        "\n",
        "output = aggregation_process.next(output.state, client_data)\n",
        "print('\\n| Round #2')\n",
        "print(f'|       Aggregation result: {output.result}   (expected 8.0)')\n",
        "print(f'| Aggregation measurements: {output.measurements}  (expected 8.0 * 2)')\n",
        "\n",
        "output = aggregation_process.next(output.state, client_data)\n",
        "print('\\n| Round #3')\n",
        "print(f'|       Aggregation result: {output.result}   (expected 8.0)')\n",
        "print(f'| Aggregation measurements: {output.measurements}  (expected 8.0 * 3)')"
      ]
    },
    {
      "cell_type": "markdown",
      "metadata": {
        "id": "wSruC1V9rxma"
      },
      "source": [
        "### Structured types"
      ]
    },
    {
      "cell_type": "markdown",
      "metadata": {
        "id": "Yjoqb6Q_tcgl"
      },
      "source": [
        "The model weights of a model trained in federated learning are usually represented as a collection of tensors, rather than a single tensor. In TFF, this is represented as `tff.StructType` and generally useful aggregation factories need to be able to accept the structured types.\n",
        "\n",
        "However, in the above examples, we only worked with a `tff.TensorType` object. If we try to use the previous factory to create the aggregation process with a `tff.StructType([(tf.float32, (2,)), (tf.float32, (3,))])`, we get a strange error because TensorFlow will try to multiply a `tf.Tensor` and a `list`.\n",
        "\n",
        "The problem is that instead of multiplying the structure of tensors by a constant, we need to multiply *each tensor in the structure* by a constant. The usual solution to this problem is to use the `tf.nest` module inside of the created `tff.tf_computation`s.\n",
        "\n",
        "The version of the previous `ExampleTaskFactory` compatible with structured types thus looks as follows:"
      ]
    },
    {
      "cell_type": "code",
      "execution_count": 19,
      "metadata": {
        "executionInfo": {
          "elapsed": 595,
          "status": "ok",
          "timestamp": 1611223078887,
          "user": {
            "displayName": "",
            "photoUrl": "",
            "userId": ""
          },
          "user_tz": -480
        },
        "id": "Hb4Wi-yUtgSs"
      },
      "outputs": [],
      "source": [
        "@tff.tf_computation()\n",
        "def client_scale(value, factor):\n",
        "  return tf.nest.map_structure(lambda x: x * factor, value)\n",
        "\n",
        "@tff.tf_computation()\n",
        "def server_unscale(value, factor):\n",
        "  return tf.nest.map_structure(lambda x: x / factor, value)\n",
        "\n",
        "@tff.tf_computation()\n",
        "def add_one(value):\n",
        "  return value + 1.0\n",
        "\n",
        "class ExampleTaskFactory(tff.aggregators.UnweightedAggregationFactory):\n",
        "\n",
        "  def create(self, value_type):\n",
        "    @tff.federated_computation()\n",
        "    def initialize_fn():\n",
        "      return tff.federated_value(0.0, tff.SERVER)\n",
        "\n",
        "    @tff.federated_computation(initialize_fn.type_signature.result,\n",
        "                               tff.type_at_clients(value_type))\n",
        "    def next_fn(state, value):\n",
        "      new_state = tff.federated_map(add_one, state)\n",
        "      state_at_clients = tff.federated_broadcast(new_state)\n",
        "      scaled_value = tff.federated_map(client_scale, (value, state_at_clients))\n",
        "      summed_value = tff.federated_sum(scaled_value)\n",
        "      unscaled_value = tff.federated_map(server_unscale, (summed_value, new_state))\n",
        "      return tff.templates.MeasuredProcessOutput(\n",
        "          state=new_state, result=unscaled_value, measurements=summed_value)\n",
        "\n",
        "    return tff.templates.AggregationProcess(initialize_fn, next_fn)"
      ]
    },
    {
      "cell_type": "markdown",
      "metadata": {
        "id": "x5-1gxv1uebz"
      },
      "source": [
        "This example highlights a pattern we generally recommend to follow when structuring TFF code. When not dealing with very simple operations, the code becomes more legible when the `tff.tf_computation`s that will be used as building blocks inside a `tff.federated_computation` are created in a separate place. Inside of the `tff.federated_computation`, these building blocks are only connected using the intrinsic operators.\n",
        "\n",
        "If richer manipulation with Python structures is needed, we recommend [`dm-tree`](https://tree.readthedocs.io/en/latest/) package which includes the functionality provided in the `tf.nest` module in 1.x versions of TensorFlow."
      ]
    },
    {
      "cell_type": "markdown",
      "metadata": {
        "id": "Uj9I-qKvu0_0"
      },
      "source": [
        "To verify it works as expected:"
      ]
    },
    {
      "cell_type": "code",
      "execution_count": 18,
      "metadata": {
        "executionInfo": {
          "elapsed": 1829,
          "status": "ok",
          "timestamp": 1611223010847,
          "user": {
            "displayName": "",
            "photoUrl": "",
            "userId": ""
          },
          "user_tz": -480
        },
        "id": "GLRZd0TFvAUR",
        "outputId": "e9216f92-3360-4b26-93b2-c703f22ff7ff"
      },
      "outputs": [
        {
          "name": "stdout",
          "output_type": "stream",
          "text": [
            "Type signatures of the created aggregation process:\n",
            "  - initialize: ( -\u003e float32@SERVER)\n",
            "  - next: (\u003cstate=float32@SERVER,value={\u003cfloat32[2],float32[3]\u003e}@CLIENTS\u003e -\u003e \u003cstate=float32@SERVER,result=\u003cfloat32[2],float32[3]\u003e@SERVER,measurements=\u003cfloat32[2],float32[3]\u003e@SERVER\u003e)\n",
            "\n",
            "Aggregation result: [[2. 3.], [6. 4. 0.]]\n",
            "          Expected: [[2. 3.], [6. 4. 0.]]\n"
          ]
        }
      ],
      "source": [
        "client_data = [[[1.0, 2.0], [3.0, 4.0, 5.0]],\n",
        "               [[1.0, 1.0], [3.0, 0.0, -5.0]]]\n",
        "factory = ExampleTaskFactory()\n",
        "aggregation_process = factory.create(\n",
        "    tff.to_type([(tf.float32, (2,)), (tf.float32, (3,))]))\n",
        "print(f'Type signatures of the created aggregation process:\\n'\n",
        "      f'  - initialize: {aggregation_process.initialize.type_signature}\\n'\n",
        "      f'  - next: {aggregation_process.next.type_signature}\\n')\n",
        "\n",
        "state = aggregation_process.initialize()\n",
        "output = aggregation_process.next(state, client_data)\n",
        "print(f'Aggregation result: [{output.result[0]}, {output.result[1]}]\\n'\n",
        "      f'          Expected: [[2. 3.], [6. 4. 0.]]')"
      ]
    },
    {
      "cell_type": "markdown",
      "metadata": {
        "id": "BO8f11fgvl_4"
      },
      "source": [
        "### Inner aggregations"
      ]
    },
    {
      "cell_type": "markdown",
      "metadata": {
        "id": "YQWF8GWnx2U_"
      },
      "source": [
        "The final step is to optionally enable delegation of the actual aggregation to other factories, in order to allow easy composition of different aggregation techniques.\n",
        "\n",
        "In our case, the actual aggregation is done using the `tff.federated_sum` operator, and the replacement should be by default delegation to `tff.aggregators.SumFactory`. Afterwards, the user should be able to optionally specify another instance of `tff.aggregators.UnweightedAggregationFactory` to replace the default.\n",
        "\n",
        "This is achieved by creating an optional `inner_factory` argument in the constructor of our `ExampleTaskFactory`. If not specified, `SumFactory` is used.\n",
        "\n",
        "When `value_type` is available in the `create_unweighted` method, the same `value_type` is passed to the inner factory, as our `ExampleTaskFactory` does not change the type signature actually being aggregated. This creates an inner aggregation process.\n",
        "\n",
        "When creating `initialize_fn`, the state of our process is a composition of two parts: the state created by \"this\" process, and the state of the just created inner process.\n",
        "\n",
        "The implementation of the `next_fn` differs in that the actual aggregation is delegated to the `next` function of the inner process, and in how the final output is composed. The state is again composed of \"this\" and \"inner\" state, and measurements are composed in a similar manner as an `OrderedDict`.\n",
        "\n",
        "The following is an implementation of such pattern."
      ]
    },
    {
      "cell_type": "code",
      "execution_count": 20,
      "metadata": {
        "executionInfo": {
          "elapsed": 977,
          "status": "ok",
          "timestamp": 1611223429472,
          "user": {
            "displayName": "",
            "photoUrl": "",
            "userId": ""
          },
          "user_tz": -480
        },
        "id": "P0LxeArJx4xK"
      },
      "outputs": [],
      "source": [
        "@tff.tf_computation()\n",
        "def client_scale(value, factor):\n",
        "  return tf.nest.map_structure(lambda x: x * factor, value)\n",
        "\n",
        "@tff.tf_computation()\n",
        "def server_unscale(value, factor):\n",
        "  return tf.nest.map_structure(lambda x: x / factor, value)\n",
        "\n",
        "@tff.tf_computation()\n",
        "def add_one(value):\n",
        "  return value + 1.0\n",
        "\n",
        "class ExampleTaskFactory(tff.aggregators.UnweightedAggregationFactory):\n",
        "\n",
        "  def __init__(self, inner_factory=None):\n",
        "    if inner_factory is None:\n",
        "      inner_factory = tff.aggregators.SumFactory()\n",
        "    self._inner_factory = inner_factory\n",
        "\n",
        "  def create(self, value_type):\n",
        "    inner_process = self._inner_factory.create_unweighted(value_type)\n",
        "\n",
        "    @tff.federated_computation()\n",
        "    def initialize_fn():\n",
        "      this_state = tff.federated_value(0.0, tff.SERVER)\n",
        "      inner_state = inner_process.initialize()\n",
        "      return tff.federated_zip((this_state, inner_state))\n",
        "\n",
        "    @tff.federated_computation(initialize_fn.type_signature.result,\n",
        "                               tff.type_at_clients(value_type))\n",
        "    def next_fn(state, value):\n",
        "      this_state, inner_state = state\n",
        "      this_state = tff.federated_map(add_one, this_state)\n",
        "      this_state_at_clients = tff.federated_broadcast(this_state)\n",
        "      scaled_value = tff.federated_map(client_scale,\n",
        "                                       (value, this_state_at_clients))\n",
        "\n",
        "      # Delegation to an inner factory, returning values placed at SERVER.\n",
        "      inner_output = inner_process.next(inner_state, scaled_value)\n",
        "\n",
        "      unscaled_value = tff.federated_map(server_unscale,\n",
        "                                         (inner_output.result, this_state))\n",
        "\n",
        "      new_state = tff.federated_zip((this_state, inner_output.state))\n",
        "      measurements = tff.federated_zip(\n",
        "          collections.OrderedDict(\n",
        "              scaled_value=inner_output.result,\n",
        "              example_task=inner_output.measurements))\n",
        "\n",
        "      return tff.templates.MeasuredProcessOutput(\n",
        "          state=new_state, result=unscaled_value, measurements=measurements)\n",
        "\n",
        "    return tff.templates.AggregationProcess(initialize_fn, next_fn)"
      ]
    },
    {
      "cell_type": "markdown",
      "metadata": {
        "id": "36IkS3npyzrh"
      },
      "source": [
        "When delegating to the `inner_process.next` function, the return structure we get is a `tff.templates.MeasuredProcessOutput`, with the same three fields - `state`, `result` and `measurements`. When creating the overall return structure of the composed aggregation process, the state and measurements fields should be generally composed and returned together. In contrast, the `result` field corresponds to the value being aggregated and instead \"flows through\" the composed aggregation.\n",
        "\n",
        "The `state` object should be seen as an implementation detail of the factory, and thus the composition could be of any structure. However, `measurements` correspond to values to be reported to the user at some point. Therefore, we recommend to use `OrderedDict`, with composed naming such that it would be clear where in an composition does a reported metric comes from.\n",
        "\n",
        "Note also the use of the `tff.federated_zip` operator. The `state` object contolled by the created process should be a `tff.FederatedType`. If we had instead returned `(this_state, inner_state)` in the `initialize_fn`, its return type signature would be a `tff.StructType` containing a 2-tuple of `tff.FederatedType`s. The use of `tff.federated_zip` \"lifts\" the `tff.FederatedType` to the top level. This is similarly used in the `next_fn` when preparing the state and measurements to be returned."
      ]
    },
    {
      "cell_type": "markdown",
      "metadata": {
        "id": "usIIplMl02zd"
      },
      "source": [
        "Finally, we can see how this can be used with the default inner aggregation:"
      ]
    },
    {
      "cell_type": "code",
      "execution_count": 23,
      "metadata": {
        "executionInfo": {
          "elapsed": 1042,
          "status": "ok",
          "timestamp": 1611223878143,
          "user": {
            "displayName": "",
            "photoUrl": "",
            "userId": ""
          },
          "user_tz": -480
        },
        "id": "NKCrTiVo1ACJ",
        "outputId": "5e4e114f-4ff9-4c80-d0eb-bbb32a657674"
      },
      "outputs": [
        {
          "name": "stdout",
          "output_type": "stream",
          "text": [
            "| Round #1\n",
            "| measurements['scaled_value']: 8.0\n",
            "| measurements['example_task']: ()\n",
            "\n",
            "| Round #2\n",
            "| measurements['scaled_value']: 16.0\n",
            "| measurements['example_task']: ()\n"
          ]
        }
      ],
      "source": [
        "client_data = (1.0, 2.0, 5.0)\n",
        "factory = ExampleTaskFactory()\n",
        "aggregation_process = factory.create(tff.TensorType(tf.float32))\n",
        "state = aggregation_process.initialize()\n",
        "\n",
        "output = aggregation_process.next(state, client_data)\n",
        "print('| Round #1')\n",
        "print(f'| measurements[\\'scaled_value\\']: {output.measurements[\"scaled_value\"]}')\n",
        "print(f'| measurements[\\'example_task\\']: {output.measurements[\"example_task\"]}')\n",
        "\n",
        "output = aggregation_process.next(output.state, client_data)\n",
        "print('\\n| Round #2')\n",
        "print(f'| measurements[\\'scaled_value\\']: {output.measurements[\"scaled_value\"]}')\n",
        "print(f'| measurements[\\'example_task\\']: {output.measurements[\"example_task\"]}')"
      ]
    },
    {
      "cell_type": "markdown",
      "metadata": {
        "id": "B0cotpsl1n3c"
      },
      "source": [
        "... and with a different inner aggregation. For example, an `ExampleTaskFactory`:"
      ]
    },
    {
      "cell_type": "code",
      "execution_count": 24,
      "metadata": {
        "executionInfo": {
          "elapsed": 1365,
          "status": "ok",
          "timestamp": 1611223880461,
          "user": {
            "displayName": "",
            "photoUrl": "",
            "userId": ""
          },
          "user_tz": -480
        },
        "id": "lhrsdsTH1ulS",
        "outputId": "99dbf3f5-630e-4fe7-d6d3-852c6fc33f96"
      },
      "outputs": [
        {
          "name": "stdout",
          "output_type": "stream",
          "text": [
            "| Round #1\n",
            "| measurements['scaled_value']: 8.0\n",
            "| measurements['example_task']: OrderedDict([('scaled_value', 8.0), ('example_task', ())])\n",
            "\n",
            "| Round #2\n",
            "| measurements['scaled_value']: 16.0\n",
            "| measurements['example_task']: OrderedDict([('scaled_value', 32.0), ('example_task', ())])\n"
          ]
        }
      ],
      "source": [
        "client_data = (1.0, 2.0, 5.0)\n",
        "factory = ExampleTaskFactory(ExampleTaskFactory())\n",
        "aggregation_process = factory.create(tff.TensorType(tf.float32))\n",
        "state = aggregation_process.initialize()\n",
        "\n",
        "output = aggregation_process.next(state, client_data)\n",
        "print('| Round #1')\n",
        "print(f'| measurements[\\'scaled_value\\']: {output.measurements[\"scaled_value\"]}')\n",
        "print(f'| measurements[\\'example_task\\']: {output.measurements[\"example_task\"]}')\n",
        "\n",
        "output = aggregation_process.next(output.state, client_data)\n",
        "print('\\n| Round #2')\n",
        "print(f'| measurements[\\'scaled_value\\']: {output.measurements[\"scaled_value\"]}')\n",
        "print(f'| measurements[\\'example_task\\']: {output.measurements[\"example_task\"]}')"
      ]
    },
    {
      "cell_type": "markdown",
      "metadata": {
        "id": "Br9GTYu40GKY"
      },
      "source": [
        "## Summary\n"
      ]
    },
    {
      "cell_type": "markdown",
      "metadata": {
        "id": "O-Wpu5hG0Jdl"
      },
      "source": [
        "In this tutorial, we explained the best practices to follow in order to create a general-purpose aggregation building block, represented as an aggregation factory. The generality comes through the design intent in two ways:\n",
        "\n",
        "1. *Parameterized computations.* Aggregation is an independent building block that can be plugged into other TFF modules designed to work with `tff.aggregators` to parameterize their necessary aggregation, such as `tff.learning.build_federated_averaging_process`.\n",
        "1. *Aggregation composition.* An aggregation building block can be composed with other aggregation building blocks to create more complex composite aggregations.\n",
        "\n",
        "Nevertheless, following these best practices is not necessary to create a custom aggregation that can be used in other modules, such as `tff.learning`. When experimenting with a new idea, it is often most productive to first hard-code the aggregation factory for a narrow use case, such as a fixed `value_type`, and it will work. \n",
        "\n",
        "These best practices are rather a default set of targets when writing a general aggregation building block which could be potentially upstreamed to TFF. Deviation from these targets is possible, based on the intended purpose of a novel aggregation factory.\n",
        "\n"
      ]
    }
  ],
  "metadata": {
    "colab": {
      "collapsed_sections": [],
      "last_runtime": {
        "build_target": "//learning/deepmind/public/tools/ml_python:ml_notebook",
        "kind": "private"
      },
      "name": "Implementing custom aggregators.ipynb",
      "provenance": [
        {
          "file_id": "0BzpN7UuiHOwQZkdRd2JhOFVxRzQ",
          "timestamp": 1610871061442
        }
      ]
    },
    "kernelspec": {
      "display_name": "Python 3",
      "name": "python3"
    }
  },
  "nbformat": 4,
  "nbformat_minor": 0
}
